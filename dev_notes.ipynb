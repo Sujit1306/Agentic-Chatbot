{
 "cells": [
  {
   "cell_type": "markdown",
   "id": "66b0c2d4",
   "metadata": {},
   "source": [
    "# 📒 Dev Notes"
   ]
  },
  {
   "cell_type": "markdown",
   "id": "8ebaf997",
   "metadata": {},
   "source": [
    "### 🖥️ Frontend Workflow (Streamlit)"
   ]
  },
  {
   "cell_type": "markdown",
   "id": "a336160b",
   "metadata": {},
   "source": [
    "\n",
    "1. **Configuration Setup**  \n",
    "   Created a `ui_config_file.ini` to store constants like:\n",
    "   - Page title  \n",
    "   - LLM options  \n",
    "   - Use-case types  \n",
    "   - Groq model choices\n",
    "\n",
    "2. **Config Parser**  \n",
    "   Implemented `ui_config_file.py` to parse and expose values from the `.ini` file.\n",
    "\n",
    "3. **UI Loader**  \n",
    "   Used the parsed config in `load_ui.py` to build the sidebar and user controls.\n",
    "\n",
    "4. **Main UI Logic**  \n",
    "   `main.py` sets up the Streamlit layout and integrates the sidebar and input elements.\n",
    "\n",
    "5. **Entry Point**  \n",
    "   `app.py` acts as the app’s entry point, triggering the entire UI flow."
   ]
  },
  {
   "cell_type": "markdown",
   "id": "ec52e3db",
   "metadata": {},
   "source": [
    "### 🧠 Implementing the LLM "
   ]
  },
  {
   "cell_type": "markdown",
   "id": "fbcd471c",
   "metadata": {},
   "source": [
    "1. Defines the `GroqLLM` class in `groq_llm.py` to integrate Groq's LLM via LangChain.\n",
    "\n",
    "2. Accepts user inputs like API key and model name from the `load_ui`.\n",
    "\n",
    "3. Verifies API key presence and initializes the selected Groq model.\n",
    "\n",
    "4. Handles exceptions and returns a configured LLM instance.\n"
   ]
  },
  {
   "cell_type": "markdown",
   "id": "8ff866b2",
   "metadata": {},
   "source": [
    "### 🛠 Building Graph  "
   ]
  },
  {
   "cell_type": "markdown",
   "id": "4655f0b1",
   "metadata": {},
   "source": [
    "1. **State Definition**  \n",
    "   Defined a State class in `state.py` using TypedDict, with:\n",
    "   - message: list of messages  \n",
    "   - Annotated with add_messages to auto-append new messages to state.\n",
    "\n",
    "2. **Graph Initialization**  \n",
    "   In `graph_builder.py`, initialized a StateGraph with the custom State.\n",
    "\n",
    "3. **Graph Construction**  \n",
    "   Inside basic_chatbot_build_graph(), added:\n",
    "   - A `chatbot` node which has `process()` method\n",
    "   - Edges from `START → chatbot → END`"
   ]
  },
  {
   "cell_type": "markdown",
   "id": "06720a82",
   "metadata": {},
   "source": [
    "### 🤖 Basic Chatbot Node Implementation"
   ]
  },
  {
   "cell_type": "markdown",
   "id": "8247a169",
   "metadata": {},
   "source": [
    "1. **Node Definition**  \n",
    "   Created BasicChatbotNode class to handle the core chatbot logic in `basic_chatbot_node.py`.\n",
    "\n",
    "2. **Message Processing**  \n",
    "   The `process()` method:  \n",
    "   - Takes in a `State` containing user messages  \n",
    "   - Uses the LLM to generate a response  \n",
    "   - Returns updated messages as a dictionary "
   ]
  }
 ],
 "metadata": {
  "kernelspec": {
   "display_name": "Python 3",
   "language": "python",
   "name": "python3"
  },
  "language_info": {
   "name": "python",
   "version": "3.12.0"
  }
 },
 "nbformat": 4,
 "nbformat_minor": 5
}
