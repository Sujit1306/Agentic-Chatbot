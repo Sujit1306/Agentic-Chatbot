{
 "cells": [
  {
   "cell_type": "markdown",
   "id": "66b0c2d4",
   "metadata": {},
   "source": [
    "# 📒 Dev Notes"
   ]
  },
  {
   "cell_type": "markdown",
   "id": "8ebaf997",
   "metadata": {},
   "source": [
    "### 🖥️ Frontend Workflow (Streamlit)"
   ]
  },
  {
   "cell_type": "markdown",
   "id": "a336160b",
   "metadata": {},
   "source": [
    "\n",
    "1. **Configuration Setup**  \n",
    "   Created a `ui_config_file.ini` to store constants like:\n",
    "   - Page title  \n",
    "   - LLM options  \n",
    "   - Use-case types  \n",
    "   - Groq model choices\n",
    "\n",
    "2. **Config Parser**  \n",
    "   Implemented `ui_config_file.py` to parse and expose values from the `.ini` file.\n",
    "\n",
    "3. **UI Loader**  \n",
    "   Used the parsed config in `load_ui.py` to build the sidebar and user controls.\n",
    "\n",
    "4. **Main UI Logic**  \n",
    "   `main.py` sets up the Streamlit layout and integrates the sidebar and input elements.\n",
    "\n",
    "5. **Entry Point**  \n",
    "   `app.py` acts as the app’s entry point, triggering the entire UI flow."
   ]
  },
  {
   "cell_type": "markdown",
   "id": "ec52e3db",
   "metadata": {},
   "source": [
    "### 🧠 Implementing the LLM "
   ]
  },
  {
   "cell_type": "markdown",
   "id": "fbcd471c",
   "metadata": {},
   "source": [
    "1. Defines the `GroqLLM` class in `groq_llm.py` to integrate Groq's LLM via LangChain.\n",
    "\n",
    "2. Accepts user inputs like API key and model name from the `load_ui`.\n",
    "\n",
    "3. Verifies API key presence and initializes the selected Groq model.\n",
    "\n",
    "4. Handles exceptions and returns a configured LLM instance.\n"
   ]
  },
  {
   "cell_type": "markdown",
   "id": "210e9f6a",
   "metadata": {},
   "source": []
  }
 ],
 "metadata": {
  "language_info": {
   "name": "python"
  }
 },
 "nbformat": 4,
 "nbformat_minor": 5
}
