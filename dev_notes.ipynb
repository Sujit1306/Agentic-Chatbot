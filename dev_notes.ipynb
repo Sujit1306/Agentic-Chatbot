{
 "cells": [
  {
   "cell_type": "markdown",
   "id": "66b0c2d4",
   "metadata": {},
   "source": [
    "# 📒 Dev Notes"
   ]
  },
  {
   "cell_type": "markdown",
   "id": "8ebaf997",
   "metadata": {},
   "source": [
    "### 🖥️ Frontend Workflow (Streamlit)"
   ]
  },
  {
   "cell_type": "markdown",
   "id": "429cb4dd",
   "metadata": {},
   "source": [
    "**1. Configuration Setup** <br>\n",
    "Created a `ui_config_file.ini` to store constants like:\n",
    "\n",
    "* Page title\n",
    "\n",
    "* LLM options\n",
    "\n",
    "* Use-case types\n",
    "\n",
    "* Groq model choices\n",
    "\n",
    "**2. Config Parser** <br>\n",
    "Implemented `ui_config_file.py` to parse and expose values from the `.ini` file.\n",
    "\n",
    "**3. UI Loader** <br>\n",
    "Used the parsed config in `load_ui.py` to build the sidebar and user controls.\n",
    "\n",
    "**4. Main UI Logic** <br>\n",
    "`main.py` sets up the Streamlit layout and integrates the sidebar and input elements.\n",
    "\n",
    "**5. Entry Point** <br>\n",
    "`app.py` acts as the app’s entry point, triggering the entire UI flow."
   ]
  },
  {
   "cell_type": "markdown",
   "id": "ec52e3db",
   "metadata": {},
   "source": [
    "### 🧠 Implementing the LLM "
   ]
  },
  {
   "cell_type": "markdown",
   "id": "fbcd471c",
   "metadata": {},
   "source": [
    "**1. LLM Handler** <br>\n",
    "`groq_llm.py` defines a `GroqLLM` class to manage model configuration.\n",
    "\n",
    "**2. Key Retrieval** <br>\n",
    "Takes the Groq API key and selected model from UI controls.\n",
    "\n",
    "**3. LLM Instantiation** <br>\n",
    "Initializes a `ChatGroq` instance using the provided configuration.\n",
    "\n",
    "**4. Validation** <br>\n",
    "Validates API key input and raises error if invalid."
   ]
  },
  {
   "cell_type": "markdown",
   "id": "8ff866b2",
   "metadata": {},
   "source": [
    "### 🛠 Building Graph  "
   ]
  },
  {
   "cell_type": "markdown",
   "id": "4655f0b1",
   "metadata": {},
   "source": [
    "**1. State Definition** <br>\n",
    "Defined a `State` class in `state.py` using `TypedDict`, with:\n",
    "\n",
    "* `message`: list of messages\n",
    "\n",
    "* Annotated with `add_messages` to auto-append messages\n",
    "\n",
    "**2. Graph Initialization** <br>\n",
    "In `graph_builder.py`, initialized a `StateGraph` with the custom `State`.\n",
    "\n",
    "**3. Graph Construction** <br>\n",
    "Inside `basic_chatbot_build_graph()`, added:\n",
    "\n",
    "* A `\"chatbot\"` node \n",
    "\n",
    "* Edges from `START → chatbot → END`\n",
    "\n",
    "**4. LLM Integration** <br>\n",
    "The `GraphBuilder` class takes in the LLM model instance during initialization, ready for use in node logic.\n",
    "\n",
    "**5. Result** <br>\n",
    "A minimal working chatbot graph with a single node, ready to be expanded."
   ]
  },
  {
   "cell_type": "markdown",
   "id": "06720a82",
   "metadata": {},
   "source": [
    "### 🤖 Basic Chatbot Node Implementation"
   ]
  },
  {
   "cell_type": "markdown",
   "id": "8247a169",
   "metadata": {},
   "source": [
    "**1. Node Definition**\n",
    "Created `BasicChatbotNode` class to handle the core chatbot logic in `basic_chatbot_node.py`.\n",
    "\n",
    "**2. Message Processing**\n",
    "The `process()` method:\n",
    "\n",
    "* Takes in a `State` containing user messages\n",
    "\n",
    "* Uses the LLM to generate a response\n",
    " \n",
    "* Returns updated messages as a dictionary"
   ]
  },
  {
   "cell_type": "markdown",
   "id": "d3c59a0e",
   "metadata": {},
   "source": [
    "### 🧩 Integrating Pipeline with Frontend"
   ]
  },
  {
   "cell_type": "markdown",
   "id": "f81da37d",
   "metadata": {},
   "source": [
    "**1. App Entry Point** <br>\n",
    "Created `app.py` to trigger the app by calling `load_langgraph_agentic_ai_app()` from `main.py`.\n",
    "\n",
    "**2. UI & Orchestration Logic** <br>\n",
    "In `main.py`:\n",
    "\n",
    "* Loads the Streamlit UI and user inputs using `LoadStreamlitUI`\n",
    "\n",
    "* Accepts user input via `st.chat_input()`\n",
    "\n",
    "* Initializes LLM using `GroqLLM`\n",
    "\n",
    "* Sets up graph via `GraphBuilder` based on selected use-case\n",
    "\n",
    "* Displays results using `DisplayResultStreamlit`\n",
    "\n",
    "**3. Result Rendering** <br>\n",
    "In `display_result.py`:\n",
    "\n",
    "* Streams events from the graph based on user input\n",
    "\n",
    "* Displays messages using `st.chat_message(\"user\")` and `st.chat_message(\"assistant\")`\n",
    "\n",
    "* Ensures conversation is shown in real-time for a smooth chat experience"
   ]
  },
  {
   "cell_type": "markdown",
   "id": "39d7aa95",
   "metadata": {},
   "source": [
    "### 📌 Workflow Overview\n",
    "\n",
    "1. The app starts from `app.py`, which calls `load_langgraph_agentic_ai_app()` from `main.py`.\n",
    "\n",
    "2. Inside `main.py`, the function performs the following:\n",
    "   - Initializes the Streamlit UI using `LoadStreamlitUI` from `load_ui.py`\n",
    "   - Captures user input via `load_streamlit_ui()`\n",
    "   - Passes user inputs to the LLM setup through the `GroqLLM` class in `groq_llm.py`\n",
    "   - Loads the selected Groq model using `get_llm_model()`\n",
    "   - Initializes the LangGraph builder using `GraphBuilder` from `graph_builder.py`\n",
    "   - Builds the graph based on the selected use case by calling `setup_graph(usecase)`\n",
    "\n",
    "3. Based on the selected use case, `setup_graph()` performs:\n",
    "\n",
    "   - **Basic Chatbot** (`basic_chatbot_build_graph()`):\n",
    "     - Initializes `BasicChatbotNode` with the LLM\n",
    "     - Adds the chatbot node to the graph\n",
    "\n",
    "   - **Chatbot with Tools** (`chatbot_with_tools_build_graph()`):\n",
    "     - Loads tools using `get_tools()` from `search_tool.py`\n",
    "     - Creates a tool node with `create_tool_node()`\n",
    "     - Initializes `ChatbotWithToolsNode` from `chatbot_with_tools.py`\n",
    "     - Binds tools and LLM using `create_chatbot(tools)`\n",
    "     - Adds the tool-augmented chatbot node to the graph\n",
    "\n",
    "4. Finally, the constructed graph is streamed and rendered using `DisplayResultStreamlit` in `display_result.py`, which handles both input/output message display via `display_result_on_ui()`.\n"
   ]
  },
  {
   "cell_type": "markdown",
   "id": "4d8f7e29",
   "metadata": {},
   "source": []
  }
 ],
 "metadata": {
  "kernelspec": {
   "display_name": "Python 3",
   "language": "python",
   "name": "python3"
  },
  "language_info": {
   "name": "python",
   "version": "3.12.0"
  }
 },
 "nbformat": 4,
 "nbformat_minor": 5
}
